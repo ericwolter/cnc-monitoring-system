{
 "cells": [
  {
   "cell_type": "code",
   "execution_count": null,
   "metadata": {},
   "outputs": [],
   "source": [
    "import os\n",
    "import sys\n",
    "sys.path.append(\"..\")"
   ]
  },
  {
   "cell_type": "code",
   "execution_count": null,
   "metadata": {},
   "outputs": [],
   "source": [
    "import h5py\n",
    "import numpy as np\n",
    "import matplotlib.pyplot as plt\n",
    "from src.common import data_loader_utils"
   ]
  },
  {
   "cell_type": "code",
   "execution_count": null,
   "metadata": {},
   "outputs": [],
   "source": [
    "machines = [\"M01\",\"M02\",\"M03\"]\n",
    "process_names = [\"OP00\", \"OP01\",\"OP02\",\"OP03\",\"OP04\",\"OP05\",\"OP06\",\"OP07\",\"OP08\",\"OP09\",\"OP10\",\"OP11\",\"OP12\",\"OP13\",\"OP14\"]\n",
    "labels = [\"good\",\"bad\"]\n",
    "path_to_dataset = \"../data/\""
   ]
  },
  {
   "cell_type": "code",
   "execution_count": null,
   "metadata": {},
   "outputs": [],
   "source": [
    "data_length_by_process = {}\n",
    "\n",
    "for process_name in process_names:\n",
    "    data_length_by_process[process_name] = []\n",
    "    for machine in machines:\n",
    "        for label in labels:\n",
    "            data_path = os.path.join(path_to_dataset, machine, process_name, label)\n",
    "            data_list, data_label = data_loader_utils.load_tool_research_data(data_path, label=label)\n",
    "            [data_length_by_process[process_name].append(len(samples)) for samples in data_list]\n",
    "\n",
    "for process_name in process_names:\n",
    "    data_lengths = data_length_by_process[process_name]\n",
    "    data_lengths.sort()\n",
    "    from collections import Counter\n",
    "\n",
    "    # Count occurrences of each unique data length\n",
    "    length_counts = Counter(data_lengths)\n",
    "\n",
    "    # Extract lengths and their counts for plotting\n",
    "    lengths = list(length_counts.keys())\n",
    "    counts = list(length_counts.values())\n",
    "    categorical_lengths = [str(length) for length in lengths]\n",
    "\n",
    "    # Bar chart\n",
    "    plt.bar(categorical_lengths, counts, edgecolor='k')\n",
    "    plt.xlabel('Length of vibration_data')\n",
    "    plt.ylabel('Number of files')\n",
    "    plt.title('Distribution of vibration_data lengths for %s, total=%d' % (process_name, sum(counts)))\n",
    "    plt.xticks(rotation=90)  # Rotate x-tick labels for better readability\n",
    "    plt.tight_layout()\n",
    "    plt.show()\n"
   ]
  },
  {
   "cell_type": "code",
   "execution_count": null,
   "metadata": {},
   "outputs": [],
   "source": [
    "file=\"../data/M01/OP00/good/M01_Aug_2019_OP00_000.h5\"\n",
    "sample = data_loader_utils.datafile_read(file)"
   ]
  },
  {
   "cell_type": "code",
   "execution_count": null,
   "metadata": {},
   "outputs": [],
   "source": [
    "import h5py\n",
    "file=\"../data/M01/OP00/good/M01_Aug_2019_OP00_000.h5\"\n",
    "f = h5py.File(file, 'r')\n",
    "print(list(f.keys()))\n",
    "dset = f['vibration_data']\n",
    "print(dset.shape, dset.dtype)"
   ]
  }
 ],
 "metadata": {
  "kernelspec": {
   "display_name": "Python 3",
   "language": "python",
   "name": "python3"
  },
  "language_info": {
   "codemirror_mode": {
    "name": "ipython",
    "version": 3
   },
   "file_extension": ".py",
   "mimetype": "text/x-python",
   "name": "python",
   "nbconvert_exporter": "python",
   "pygments_lexer": "ipython3",
   "version": "3.10.13"
  },
  "orig_nbformat": 4
 },
 "nbformat": 4,
 "nbformat_minor": 2
}
