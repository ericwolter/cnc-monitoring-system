{
 "cells": [
  {
   "cell_type": "code",
   "execution_count": null,
   "metadata": {},
   "outputs": [],
   "source": [
    "import os\n",
    "import sys\n",
    "sys.path.append(\"..\")"
   ]
  },
  {
   "cell_type": "code",
   "execution_count": null,
   "metadata": {},
   "outputs": [],
   "source": [
    "import torch\n",
    "\n",
    "device = torch.device(\"cuda\" if torch.cuda.is_available() else \"cpu\")\n",
    "print(device)"
   ]
  },
  {
   "cell_type": "code",
   "execution_count": null,
   "metadata": {},
   "outputs": [],
   "source": [
    "from src.common import data_loader_utils\n",
    "\n",
    "machines = [\"M01\",\"M02\",\"M03\"]\n",
    "process_names = [\"OP07\"]\n",
    "labels = [\"good\"]\n",
    "path_to_dataset = \"../data/\"\n",
    "\n",
    "X_data = []\n",
    "for process_name in process_names:\n",
    "    for machine in machines:\n",
    "        for label in labels:\n",
    "            data_path = os.path.join(path_to_dataset, machine, process_name, label)\n",
    "            data_list, _ = data_loader_utils.load_tool_research_data(data_path, label=label)\n",
    "            X_data.extend(data_list)\n",
    "\n",
    "print(len(X_data))"
   ]
  }
 ],
 "metadata": {
  "kernelspec": {
   "display_name": "Python 3",
   "language": "python",
   "name": "python3"
  },
  "language_info": {
   "codemirror_mode": {
    "name": "ipython",
    "version": 3
   },
   "file_extension": ".py",
   "mimetype": "text/x-python",
   "name": "python",
   "nbconvert_exporter": "python",
   "pygments_lexer": "ipython3",
   "version": "3.10.13"
  },
  "orig_nbformat": 4
 },
 "nbformat": 4,
 "nbformat_minor": 2
}
